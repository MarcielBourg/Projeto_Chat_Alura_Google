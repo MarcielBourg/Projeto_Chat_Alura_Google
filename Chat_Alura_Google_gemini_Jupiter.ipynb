{
  "nbformat": 4,
  "nbformat_minor": 0,
  "metadata": {
    "colab": {
      "provenance": [],
      "authorship_tag": "ABX9TyOM4xjRMPXFj3oYNIgcbfsj",
      "include_colab_link": true
    },
    "kernelspec": {
      "name": "python3",
      "display_name": "Python 3"
    },
    "language_info": {
      "name": "python"
    }
  },
  "cells": [
    {
      "cell_type": "markdown",
      "metadata": {
        "id": "view-in-github",
        "colab_type": "text"
      },
      "source": [
        "<a href=\"https://colab.research.google.com/github/MarcielBourg/Projeto_Chat_Alura_Google/blob/main/Untitled1.ipynb\" target=\"_parent\"><img src=\"https://colab.research.google.com/assets/colab-badge.svg\" alt=\"Open In Colab\"/></a>"
      ]
    },
    {
      "cell_type": "markdown",
      "source": [
        "Instalando o sdk do Google"
      ],
      "metadata": {
        "id": "BvG36f9ej1Mo"
      }
    },
    {
      "cell_type": "code",
      "execution_count": 1,
      "metadata": {
        "id": "7oL9rVyraxzB"
      },
      "outputs": [],
      "source": [
        "!pip install -q -U google-generativeai"
      ]
    },
    {
      "cell_type": "code",
      "source": [
        "import google.generativeai as genai\n",
        "from google.colab import userdata\n",
        "api_key = userdata.get(\"secret_key\")\n",
        "GOOGLE_API_KEY=\"secret_key\"\n",
        "genai.configure(api_key=GOOGLE_API_KEY)"
      ],
      "metadata": {
        "id": "fA--7cMgkr9a"
      },
      "execution_count": 2,
      "outputs": []
    },
    {
      "cell_type": "markdown",
      "source": [
        "Listar os modelos disponíveis."
      ],
      "metadata": {
        "id": "m8G0yvYVlB00"
      }
    },
    {
      "cell_type": "code",
      "source": [
        "for m in genai.list_models():\n",
        "   if 'generateContent' in m.supported_generation_methods:\n",
        "        print(m.name)"
      ],
      "metadata": {
        "colab": {
          "base_uri": "https://localhost:8080/",
          "height": 139
        },
        "id": "mQ34rlpylj-a",
        "outputId": "0ceaf850-a41d-4afe-d1d8-c00766c2b215"
      },
      "execution_count": 3,
      "outputs": [
        {
          "output_type": "stream",
          "name": "stdout",
          "text": [
            "models/gemini-1.0-pro\n",
            "models/gemini-1.0-pro-001\n",
            "models/gemini-1.0-pro-latest\n",
            "models/gemini-1.0-pro-vision-latest\n",
            "models/gemini-1.5-pro-latest\n",
            "models/gemini-pro\n",
            "models/gemini-pro-vision\n"
          ]
        }
      ]
    },
    {
      "cell_type": "markdown",
      "source": [
        "configuraçoes de resposta e aleatoriedade"
      ],
      "metadata": {
        "id": "MUzovqQwy12I"
      }
    },
    {
      "cell_type": "code",
      "source": [
        "generation_config= {\n",
        "    \"candidate_count\": 1,\n",
        "    \"temperature\": 0.5,\n",
        "}"
      ],
      "metadata": {
        "id": "thhXKfliw3dg"
      },
      "execution_count": 4,
      "outputs": []
    },
    {
      "cell_type": "markdown",
      "source": [
        "configuraçoes de segurança de conteúdo"
      ],
      "metadata": {
        "id": "MjpxSkq0yqx4"
      }
    },
    {
      "cell_type": "code",
      "source": [
        "safety_settings= {\n",
        "    \"HARASSMENT\": \"BLOCK_NONE\",\n",
        "    \"HATE\": \"BLOCK_NONE\",\n",
        "    \"SEXUAL\": \"BLOCK_NONE\",\n",
        "    \"DANGEROUS\": \"BLOCK_NONE\",\n",
        "\n",
        "}"
      ],
      "metadata": {
        "id": "mZy4KK7_ywXc"
      },
      "execution_count": 5,
      "outputs": []
    },
    {
      "cell_type": "markdown",
      "source": [
        "Inicializando o Modelo"
      ],
      "metadata": {
        "id": "JkrBIRH_1bmz"
      }
    },
    {
      "cell_type": "code",
      "source": [
        "model = genai.GenerativeModel(model_name=\"gemini-1.0-pro\",\n",
        "                              generation_config=generation_config,\n",
        "                             safety_settings=safety_settings)\n"
      ],
      "metadata": {
        "id": "4lcTX6fg1hRT"
      },
      "execution_count": 6,
      "outputs": []
    },
    {
      "cell_type": "markdown",
      "source": [
        "Resposta do chat"
      ],
      "metadata": {
        "id": "J2fekkdJ4AV9"
      }
    },
    {
      "cell_type": "code",
      "source": [
        "response = model.generate_content(\"Aprendendo a criar um chat com Gemini. Me dê sugestões.\")\n",
        "print(response.text)"
      ],
      "metadata": {
        "colab": {
          "base_uri": "https://localhost:8080/",
          "height": 749
        },
        "id": "xdRaDrB34EOA",
        "outputId": "d1f9d06b-1123-4090-8e82-5272cc4ac10f"
      },
      "execution_count": 7,
      "outputs": [
        {
          "output_type": "stream",
          "name": "stdout",
          "text": [
            "**1. Defina o Escopo e os Objetivos:**\n",
            "\n",
            "* Determine o propósito do chat, como suporte ao cliente, vendas ou engajamento da comunidade.\n",
            "* Defina as funcionalidades necessárias, como mensagens de texto, compartilhamento de arquivos e atendimento ao vivo.\n",
            "\n",
            "**2. Escolha a Plataforma Gemini:**\n",
            "\n",
            "* Explore as diferentes opções de plataforma Gemini, como Gemini SDK e Gemini Cloud.\n",
            "* Avalie os recursos, preços e suporte técnico de cada opção.\n",
            "\n",
            "**3. Crie o Bot de Bate-papo:**\n",
            "\n",
            "* Use o Gemini SDK ou Cloud para criar um bot de bate-papo.\n",
            "* Projete fluxos de conversa, defina gatilhos e treine o bot com dados de conversação.\n",
            "\n",
            "**4. Integre com Sistemas Externos:**\n",
            "\n",
            "* Conecte o bot de bate-papo a sistemas externos, como CRM ou ferramentas de help desk.\n",
            "* Isso permitirá que o bot acesse informações do cliente e execute ações.\n",
            "\n",
            "**5. Personalize a Interface do Usuário:**\n",
            "\n",
            "* Crie uma interface de usuário personalizada para o chat, incluindo cores, logotipos e estilos de fonte.\n",
            "* Isso melhorará a experiência do usuário e tornará o chat mais atraente.\n",
            "\n",
            "**6. Teste e Implemente:**\n",
            "\n",
            "* Teste o bot de bate-papo completamente para garantir sua funcionalidade e precisão.\n",
            "* Implemente o chat em seu site ou aplicativo móvel.\n",
            "\n",
            "**7. Monitore e Melhore:**\n",
            "\n",
            "* Monitore o desempenho do chat, incluindo métricas como tempo de resposta e satisfação do cliente.\n",
            "* Faça ajustes e melhorias regulares com base nos dados coletados.\n",
            "\n",
            "**Sugestões Adicionais:**\n",
            "\n",
            "* Use recursos avançados do Gemini, como processamento de linguagem natural (PNL) e aprendizado de máquina (ML) para melhorar a compreensão do bot.\n",
            "* Forneça opções de atendimento ao vivo para situações complexas que não podem ser resolvidas pelo bot.\n",
            "* Integre o chat com ferramentas de análise para rastrear o envolvimento do usuário e identificar áreas de melhoria.\n",
            "* Personalize as respostas do bot com base no histórico de conversas e nas preferências do usuário.\n"
          ]
        }
      ]
    },
    {
      "cell_type": "markdown",
      "source": [
        "Criando o chatbot"
      ],
      "metadata": {
        "id": "sCz3zAed5Fhz"
      }
    },
    {
      "cell_type": "code",
      "source": [
        "chat= model.start_chat(history=[])"
      ],
      "metadata": {
        "id": "Zehjaoez5ISL"
      },
      "execution_count": 8,
      "outputs": []
    },
    {
      "cell_type": "code",
      "source": [
        "prompt = input(\"Esperando Prompt: \")\n",
        "while prompt != \"fim\":\n",
        "    response = chat.send_message(prompt)\n",
        "    response_text = response.text\n",
        "    # Adicionando quebra de linha após a primeira frase\n",
        "    response_text = response_text[:response_text.find(\".\")+1] + \"\\n\" + response_text[response_text.find(\".\")+1:]\n",
        "    print(\"Resposta:\", response_text)\n",
        "    print()  # Isso adicionará a quebra de linha\n",
        "    prompt = input(\"Esperando Prompt: \")"
      ],
      "metadata": {
        "colab": {
          "base_uri": "https://localhost:8080/",
          "height": 540
        },
        "id": "gDCZynCt6Cxc",
        "outputId": "36f67e33-6635-4487-d4b9-7c8c2d6bdc37"
      },
      "execution_count": 17,
      "outputs": [
        {
          "name": "stdout",
          "output_type": "stream",
          "text": [
            "Esperando Prompt: Quem foram os Cátaros Albigenses?\n",
            "Resposta: Os Cátaros Albigenses foram um grupo religioso cristão que floresceu no sul da França e no norte da Itália durante os séculos XII e XIII.\n",
            " Eles eram considerados hereges pela Igreja Católica Romana e foram perseguidos implacavelmente durante a Cruzada Albigense.\n",
            "\n",
            "**Crenças dos Cátaros:**\n",
            "\n",
            "* Acreditavam em um dualismo entre o bem e o mal, com o mundo material sendo o reino do mal.\n",
            "* Viam o Deus do Antigo Testamento como uma entidade malévola e o Deus do Novo Testamento como um Deus de amor e bondade.\n",
            "* Rejeitavam a autoridade da Igreja Católica, os sacramentos e a doutrina da Trindade.\n",
            "* Praticavam uma forma de ascetismo, incluindo o celibato e o vegetarianismo.\n",
            "\n",
            "**Origem e propagação:**\n",
            "\n",
            "* O movimento cátaro originou-se na Bulgária no século X e se espalhou para o sul da França e o norte da Itália no século XII.\n",
            "* Eles ganharam muitos seguidores entre a nobreza e o povo comum, devido à sua rejeição da riqueza e corrupção da Igreja Católica.\n",
            "\n",
            "**Perseguição e Cruzada Albigense:**\n",
            "\n",
            "* A Igreja Católica considerou os Cátaros hereges e lançou uma cruzada contra eles em 1209.\n",
            "* A Cruzada Albigense foi uma campanha militar brutal que durou mais de 20 anos e resultou na morte de dezenas de milhares de Cátaros.\n",
            "* Em 1244, a fortaleza cátara de Montségur caiu para as forças cruzadas, marcando o fim efetivo do movimento cátaro.\n",
            "\n",
            "**Legado:**\n",
            "\n",
            "* Os Cátaros Albigenses deixaram um legado duradouro como um grupo de dissidentes religiosos que desafiaram a autoridade da Igreja Católica.\n",
            "* Suas crenças influenciaram outros movimentos religiosos, como os valdenses e os husitas.\n",
            "* A perseguição aos Cátaros é um lembrete sombrio da intolerância religiosa e da violência que pode resultar dela.\n",
            "\n",
            "Esperando Prompt: fim\n"
          ]
        }
      ]
    },
    {
      "cell_type": "code",
      "source": [
        "#Melhorando a visualização\n",
        "#Código disponível em https://ai.google.dev/tutorials/python_quickstart#import_packages\n",
        "import textwrap\n",
        "from IPython.display import display\n",
        "from IPython.display import Markdown\n",
        "\n",
        "def to_markdown(text):\n",
        "  text = text.replace('•', '  *')\n",
        "  return Markdown(textwrap.indent(text, '> ', predicate=lambda _: True))\n",
        "\n",
        "#Imprimindo o histórico\n",
        "for message in chat.history:\n",
        "  display(to_markdown(f'**{message.role}**: {message.parts[0].text}'))\n",
        "  print('-------------------------------------------')"
      ],
      "metadata": {
        "colab": {
          "base_uri": "https://localhost:8080/",
          "height": 1000
        },
        "id": "WYn-PIsaD4qJ",
        "outputId": "cbea5caa-5e67-483f-9000-c05903b5fbcc"
      },
      "execution_count": 18,
      "outputs": [
        {
          "output_type": "display_data",
          "data": {
            "text/plain": [
              "<IPython.core.display.Markdown object>"
            ],
            "text/markdown": "> **user**: O que é um ovo?"
          },
          "metadata": {}
        },
        {
          "output_type": "stream",
          "name": "stdout",
          "text": [
            "-------------------------------------------\n"
          ]
        },
        {
          "output_type": "display_data",
          "data": {
            "text/plain": [
              "<IPython.core.display.Markdown object>"
            ],
            "text/markdown": "> **model**: Um ovo é uma estrutura reprodutiva produzida por fêmeas da maioria das espécies de aves, répteis, anfíbios e peixes, e alguns mamíferos (monotremados). É uma célula única grande, protegida por uma casca ou membrana externa, que contém o embrião e nutrientes para seu desenvolvimento."
          },
          "metadata": {}
        },
        {
          "output_type": "stream",
          "name": "stdout",
          "text": [
            "-------------------------------------------\n"
          ]
        },
        {
          "output_type": "display_data",
          "data": {
            "text/plain": [
              "<IPython.core.display.Markdown object>"
            ],
            "text/markdown": "> **user**: o que é um ovo?"
          },
          "metadata": {}
        },
        {
          "output_type": "stream",
          "name": "stdout",
          "text": [
            "-------------------------------------------\n"
          ]
        },
        {
          "output_type": "display_data",
          "data": {
            "text/plain": [
              "<IPython.core.display.Markdown object>"
            ],
            "text/markdown": "> **model**: Um ovo é uma estrutura reprodutiva produzida por fêmeas da maioria das espécies de aves, répteis, anfíbios e peixes, e alguns mamíferos (monotremados). É uma célula única grande, protegida por uma casca ou membrana externa, que contém o embrião e nutrientes para seu desenvolvimento.\n> \n> **Características de um ovo:**\n> \n> * **Casca ou membrana:** Protege o embrião de danos e desidratação.\n> * **Clara (albúmen):** Fornece proteínas e água para o embrião.\n> * **Gema (vitelo):** Contém nutrientes, incluindo gorduras, proteínas e vitaminas.\n> * **Membranas embrionárias:** Protegem o embrião e facilitam as trocas gasosas.\n> * **Embrião:** O organismo em desenvolvimento dentro do ovo.\n> \n> **Tipos de ovos:**\n> \n> * **Ovos amniotas:** Possuem membranas embrionárias e uma casca ou membrana externa protetora. Encontrados em aves, répteis e mamíferos monotremados.\n> * **Ovos anamniotas:** Não possuem membranas embrionárias e uma casca protetora. Encontrados em peixes e anfíbios.\n> \n> **Função dos ovos:**\n> \n> * Proteger e nutrir o embrião em desenvolvimento.\n> * Fornecer um ambiente úmido e estável para o desenvolvimento.\n> * Facilitar as trocas gasosas entre o embrião e o ambiente externo."
          },
          "metadata": {}
        },
        {
          "output_type": "stream",
          "name": "stdout",
          "text": [
            "-------------------------------------------\n"
          ]
        },
        {
          "output_type": "display_data",
          "data": {
            "text/plain": [
              "<IPython.core.display.Markdown object>"
            ],
            "text/markdown": "> **user**: O que é um ovo?"
          },
          "metadata": {}
        },
        {
          "output_type": "stream",
          "name": "stdout",
          "text": [
            "-------------------------------------------\n"
          ]
        },
        {
          "output_type": "display_data",
          "data": {
            "text/plain": [
              "<IPython.core.display.Markdown object>"
            ],
            "text/markdown": "> **model**: Um ovo é uma estrutura reprodutiva produzida por fêmeas da maioria das espécies de aves, répteis, anfíbios e peixes, e alguns mamíferos (monotremados). É uma célula única grande, protegida por uma casca ou membrana externa, que contém o embrião e nutrientes para seu desenvolvimento.\n> \n> **Características de um ovo:**\n> \n> * **Casca ou membrana:** Protege o embrião de danos e desidratação.\n> * **Clara (albúmen):** Fornece proteínas e água para o embrião.\n> * **Gema (vitelo):** Contém nutrientes, incluindo gorduras, proteínas e vitaminas.\n> * **Membranas embrionárias:** Protegem o embrião e facilitam as trocas gasosas.\n> * **Embrião:** O organismo em desenvolvimento dentro do ovo.\n> \n> **Tipos de ovos:**\n> \n> * **Ovos amniotas:** Possuem membranas embrionárias e uma casca ou membrana externa protetora. Encontrados em aves, répteis e mamíferos monotremados.\n> * **Ovos anamniotas:** Não possuem membranas embrionárias e uma casca protetora. Encontrados em peixes e anfíbios.\n> \n> **Função dos ovos:**\n> \n> * Proteger e nutrir o embrião em desenvolvimento.\n> * Fornecer um ambiente úmido e estável para o desenvolvimento.\n> * Facilitar as trocas gasosas entre o embrião e o ambiente externo.\n> \n> **Importância dos ovos:**\n> \n> * Fonte de alimento rica em proteínas e nutrientes para humanos e outros animais.\n> * Usados em uma ampla variedade de pratos culinários.\n> * Importantes para a reprodução e sobrevivência de muitas espécies animais."
          },
          "metadata": {}
        },
        {
          "output_type": "stream",
          "name": "stdout",
          "text": [
            "-------------------------------------------\n"
          ]
        },
        {
          "output_type": "display_data",
          "data": {
            "text/plain": [
              "<IPython.core.display.Markdown object>"
            ],
            "text/markdown": "> **user**: O que é um ovo?"
          },
          "metadata": {}
        },
        {
          "output_type": "stream",
          "name": "stdout",
          "text": [
            "-------------------------------------------\n"
          ]
        },
        {
          "output_type": "display_data",
          "data": {
            "text/plain": [
              "<IPython.core.display.Markdown object>"
            ],
            "text/markdown": "> **model**: Um ovo é uma estrutura reprodutiva produzida por fêmeas da maioria das espécies de aves, répteis, anfíbios, peixes e alguns mamíferos (monotremados). É uma célula única grande, protegida por uma casca ou membrana externa, que contém o embrião e nutrientes para seu desenvolvimento.\n> \n> **Características de um ovo:**\n> \n> * **Casca ou membrana:** Protege o embrião de danos e desidratação.\n> * **Clara (albúmen):** Fornece proteínas e água para o embrião.\n> * **Gema (vitelo):** Contém nutrientes, incluindo gorduras, proteínas e vitaminas.\n> * **Membranas embrionárias:** Protegem o embrião e facilitam as trocas gasosas.\n> * **Embrião:** O organismo em desenvolvimento dentro do ovo.\n> \n> **Tipos de ovos:**\n> \n> * **Ovos amniotas:** Possuem membranas embrionárias e uma casca ou membrana externa protetora. Encontrados em aves, répteis e mamíferos monotremados.\n> * **Ovos anamniotas:** Não possuem membranas embrionárias e uma casca protetora. Encontrados em peixes e anfíbios.\n> \n> **Função dos ovos:**\n> \n> * Proteger e nutrir o embrião em desenvolvimento.\n> * Fornecer um ambiente úmido e estável para o desenvolvimento.\n> * Facilitar as trocas gasosas entre o embrião e o ambiente externo.\n> \n> **Importância dos ovos:**\n> \n> * Fonte de alimento rica em proteínas e nutrientes para humanos e outros animais.\n> * Usados em uma ampla variedade de pratos culinários.\n> * Importantes para a reprodução e sobrevivência de muitas espécies animais.\n> \n> **Fato interessante:**\n> \n> O maior ovo do mundo é posto pela avestruz, podendo pesar até 1,4 kg. O menor ovo do mundo é posto pelo beija-flor-abelha, pesando apenas 0,5 gramas."
          },
          "metadata": {}
        },
        {
          "output_type": "stream",
          "name": "stdout",
          "text": [
            "-------------------------------------------\n"
          ]
        },
        {
          "output_type": "display_data",
          "data": {
            "text/plain": [
              "<IPython.core.display.Markdown object>"
            ],
            "text/markdown": "> **user**: O que é um ovo?"
          },
          "metadata": {}
        },
        {
          "output_type": "stream",
          "name": "stdout",
          "text": [
            "-------------------------------------------\n"
          ]
        },
        {
          "output_type": "display_data",
          "data": {
            "text/plain": [
              "<IPython.core.display.Markdown object>"
            ],
            "text/markdown": "> **model**: Um ovo é uma estrutura reprodutiva produzida por fêmeas da maioria das espécies de aves, répteis, anfíbios, peixes e alguns mamíferos (monotremados). É uma célula única grande, protegida por uma casca ou membrana externa, que contém o embrião e nutrientes para seu desenvolvimento.\n> \n> **Características de um ovo:**\n> \n> * **Casca ou membrana:** Protege o embrião de danos e desidratação.\n> * **Clara (albúmen):** Fornece proteínas e água para o embrião.\n> * **Gema (vitelo):** Contém nutrientes, incluindo gorduras, proteínas e vitaminas.\n> * **Membranas embrionárias:** Protegem o embrião e facilitam as trocas gasosas.\n> * **Embrião:** O organismo em desenvolvimento dentro do ovo.\n> \n> **Tipos de ovos:**\n> \n> * **Ovos amniotas:** Possuem membranas embrionárias e uma casca ou membrana externa protetora. Encontrados em aves, répteis e mamíferos monotremados.\n> * **Ovos anamniotas:** Não possuem membranas embrionárias e uma casca protetora. Encontrados em peixes e anfíbios.\n> \n> **Função dos ovos:**\n> \n> * Proteger e nutrir o embrião em desenvolvimento.\n> * Fornecer um ambiente úmido e estável para o desenvolvimento.\n> * Facilitar as trocas gasosas entre o embrião e o ambiente externo.\n> \n> **Importância dos ovos:**\n> \n> * Fonte de alimento rica em proteínas e nutrientes para humanos e outros animais.\n> * Usados em uma ampla variedade de pratos culinários.\n> * Importantes para a reprodução e sobrevivência de muitas espécies animais.\n> \n> **Fatos adicionais:**\n> \n> * Os ovos são classificados como alimentos ricos em colesterol. No entanto, estudos recentes sugerem que o colesterol dietético tem um impacto mínimo nos níveis de colesterol no sangue.\n> * Os ovos são uma boa fonte de colina, um nutriente essencial para o desenvolvimento do cérebro e do sistema nervoso.\n> * O consumo de ovos tem sido associado a um risco reduzido de doenças cardíacas e derrame."
          },
          "metadata": {}
        },
        {
          "output_type": "stream",
          "name": "stdout",
          "text": [
            "-------------------------------------------\n"
          ]
        },
        {
          "output_type": "display_data",
          "data": {
            "text/plain": [
              "<IPython.core.display.Markdown object>"
            ],
            "text/markdown": "> **user**: Quem foram os Cátaros Albigenses?"
          },
          "metadata": {}
        },
        {
          "output_type": "stream",
          "name": "stdout",
          "text": [
            "-------------------------------------------\n"
          ]
        },
        {
          "output_type": "display_data",
          "data": {
            "text/plain": [
              "<IPython.core.display.Markdown object>"
            ],
            "text/markdown": "> **model**: Os Cátaros Albigenses foram um grupo religioso cristão que floresceu no sul da França e no norte da Itália durante os séculos XII e XIII. Eles eram considerados hereges pela Igreja Católica Romana e foram perseguidos implacavelmente durante a Cruzada Albigense.\n> \n> **Crenças dos Cátaros:**\n> \n> * Acreditavam em um dualismo entre o bem e o mal, com o mundo material sendo o reino do mal.\n> * Viam o Deus do Antigo Testamento como uma entidade malévola e o Deus do Novo Testamento como um Deus de amor e bondade.\n> * Rejeitavam a autoridade da Igreja Católica, os sacramentos e a doutrina da Trindade.\n> * Praticavam uma forma de ascetismo, incluindo o celibato e o vegetarianismo.\n> \n> **Origem e propagação:**\n> \n> * O movimento cátaro originou-se na Bulgária no século X e se espalhou para o sul da França e o norte da Itália no século XII.\n> * Eles ganharam muitos seguidores entre a nobreza e o povo comum, devido à sua rejeição da riqueza e corrupção da Igreja Católica.\n> \n> **Perseguição e Cruzada Albigense:**\n> \n> * A Igreja Católica considerou os Cátaros hereges e lançou uma cruzada contra eles em 1209.\n> * A Cruzada Albigense foi uma campanha militar brutal que durou mais de 20 anos e resultou na morte de dezenas de milhares de Cátaros.\n> * Em 1244, a fortaleza cátara de Montségur caiu para as forças cruzadas, marcando o fim efetivo do movimento cátaro.\n> \n> **Legado:**\n> \n> * Os Cátaros Albigenses deixaram um legado duradouro como um grupo de dissidentes religiosos que desafiaram a autoridade da Igreja Católica.\n> * Suas crenças influenciaram outros movimentos religiosos, como os valdenses e os husitas.\n> * A perseguição aos Cátaros é um lembrete sombrio da intolerância religiosa e da violência que pode resultar dela."
          },
          "metadata": {}
        },
        {
          "output_type": "stream",
          "name": "stdout",
          "text": [
            "-------------------------------------------\n"
          ]
        }
      ]
    }
  ]
}